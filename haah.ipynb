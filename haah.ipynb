{
 "cells": [
  {
   "cell_type": "markdown",
   "metadata": {
    "id": "p03hoMY_KC5B"
   },
   "source": [
    "<h1 align=\"center\">An Introduction to Machine Learning - 25737</h1>\n",
    "<h4 align=\"center\">Dr. Sajjad Amini</h4>\n",
    "<h4 align=\"center\">Sharif University of Technology, Spring 2023</h4>\n",
    "\n",
    "**Student Name**: Mohammad Ali Hashemifar\n",
    "\n",
    "**Student ID**: 99106758\n",
    "\n",
    "# Linear Regression\n",
    "\n",
    "In this exercise, we want to examine **linear regression**. For this purpose, we have prepared a dataset in the `q1.csv` file. This dataset is used to estimate the **heating load** and **cooling load** of a building based on its parameters. The parameters in this dataset are explained below:\n",
    "\n",
    "- $X_1$: Relative Compactness\n",
    "- $X_2$: Surface Area\n",
    "- $X_3$: Wall Area\n",
    "- $X_4$: Roof Area\n",
    "- $X_5$: Overall Height\n",
    "- $X_6$: Orientation\n",
    "- $X_7$: Glazing Area\n",
    "- $X_8$: Glazing Area Distribution\n",
    "- $Y_1$: Heating Load\n",
    "- $Y_2$: Cooling Load\n",
    "\n",
    "**Note**: For the sake of simplicity, we will only focus on estimating the **heating load** in this problem. Also, please note that we have some inline questions in this notebook, for which you should write your answers in the **Answer** section below each question."
   ]
  },
  {
   "cell_type": "markdown",
   "metadata": {
    "id": "P6_GSec1OXRM"
   },
   "source": [
    "## Importing Libraries\n",
    "\n",
    "First we import libraries that we need for this assignment.\n",
    "\n",
    "**Attention**: You should only use these libraries. Other libraries are not acceptable."
   ]
  },
  {
   "cell_type": "code",
   "execution_count": 2,
   "metadata": {
    "id": "5u7kqX0wONrr"
   },
   "outputs": [],
   "source": [
    "import numpy as np\n",
    "import pandas as pd\n",
    "import matplotlib.pyplot as plt"
   ]
  },
  {
   "cell_type": "markdown",
   "metadata": {
    "id": "9he9c_YvMqAL"
   },
   "source": [
    "## Reading Data and Preprocessing\n",
    "\n",
    "In this section, we want to read data from a CSV file and then preprocess it to make it ready for the rest of the problem.\n",
    "\n",
    "First, we read the data in the cell below and extract an $m \\times n$ matrix, $X$, and an $m \\times 1$ vector, $Y$, from it, which represent our knowledge about the building (`X1`, `X2`, ..., `X8`) and heating load (`Y1`), respectively. Note that by $m$, we mean the number of data points and by $n$, we mean the number of features."
   ]
  },
  {
   "cell_type": "code",
   "execution_count": 3,
   "metadata": {
    "id": "bV10SRSaJ_DJ"
   },
   "outputs": [
    {
     "name": "stdout",
     "output_type": "stream",
     "text": [
      "(768, 8)\n",
      "(768, 1)\n"
     ]
    }
   ],
   "source": [
    "X, Y = None, None\n",
    "\n",
    "data = pd.read_csv('q1.csv')\n",
    "\n",
    "X = data.iloc[:, :8].values\n",
    "Y = data.iloc[:, 8].values.reshape(-1, 1)\n",
    "\n",
    "print(X.shape)\n",
    "print(Y.shape)"
   ]
  },
  {
   "cell_type": "markdown",
   "metadata": {
    "id": "EkZeww-2OAuX"
   },
   "source": [
    "Next, we should normalize our data. For normalizing a vector $\\mathbf{x}$, a very common method is to use this formula:\n",
    "\n",
    "$$\n",
    "\\mathbf{x}_{norm} = \\dfrac{\\mathbf{x} - \\overline{\\mathbf{x}}}{\\sigma_\\mathbf{x}}\n",
    "$$\n",
    "\n",
    "Here, $\\overline{x}$ and $\\sigma_\\mathbf{x}$ denote the mean and standard deviation of vector $\\mathbf{x}$, respectively. Use this formula and store the new $X$ and $Y$ vectors in the cell below.\n",
    "\n",
    "**Question**: Briefly explain why we need to normalize our data before starting the training.\n",
    "\n",
    "**Answer**: Normalizing data is a common preprocessing step in machine learning that helps to ensure that all features are treated equally during training. When the features of a dataset are measured on different scales or units, some features can have a larger range of values than others, which can lead to a bias in the training process. This can cause the model to give more weight to features with larger values, even if they are not more important than other features.\n",
    "Normalizing the data typically involves scaling each feature to have zero mean and unit variance, which brings all the features to a similar scale. This can help to improve the performance and stability of the model during training and make it easier to compare the importance of different features. Additionally, normalization can help to prevent some numerical problems that can arise during training, such as overflow or underflow in the computations."
   ]
  },
  {
   "cell_type": "code",
   "execution_count": 4,
   "metadata": {
    "id": "Y2i0bjxUPak2"
   },
   "outputs": [],
   "source": [
    "X_mean = np.mean(X, axis=0)\n",
    "X_std = np.std(X, axis=0)\n",
    "X = (X - X_mean) / X_std\n",
    "\n",
    "Y_mean = np.mean(Y)\n",
    "Y_std = np.std(Y)\n",
    "Y = (Y-Y_mean) / Y_std"
   ]
  },
  {
   "cell_type": "markdown",
   "metadata": {
    "id": "mvmHQ-mxQzDE"
   },
   "source": [
    "Finally, we should add a column of $1$s at the beginning of $X$ to represent the bias term. Do this in the next cell. Note that after this process, $X$ should be an $m \\times (n+1)$ matrix."
   ]
  },
  {
   "cell_type": "code",
   "execution_count": 5,
   "metadata": {
    "id": "QLfV7VQNRCfF"
   },
   "outputs": [
    {
     "name": "stdout",
     "output_type": "stream",
     "text": [
      "(768, 9)\n"
     ]
    }
   ],
   "source": [
    "### START CODE HERE ###\n",
    "X = np.hstack((np.ones((X.shape[0], 1)), X))\n",
    "### END CODE HERE ###\n",
    "\n",
    "print(X.shape)"
   ]
  },
  {
   "cell_type": "markdown",
   "metadata": {
    "id": "nO--dppbRsdb"
   },
   "source": [
    "## Training Model Using Direct Method\n",
    "\n",
    "We know that the loss function in linear regression is defined as:\n",
    "\n",
    "$$\n",
    "\\mathcal{L}(\\mathbf{w}) = \\frac{1}{m}\\sum_{i=1}^{m}(\\mathbf{w}^\\top\\mathbf{x}_i-y_i)^2\n",
    "$$\n",
    "\n",
    "Here, $w$ is the weight vector and $(x_i, y_i)$ represents the $i$th data point. First, write a function that takes $X$, $Y$, and $w$ as inputs and returns the loss value in the next cell. Note that your implementation should be fully vectorized, meaning that you are not allowed to use any loops in your function and should only use functions prepared in the numpy library.\n"
   ]
  },
  {
   "cell_type": "code",
   "execution_count": 6,
   "metadata": {
    "id": "bSbXtyXCRzD3"
   },
   "outputs": [],
   "source": [
    "def loss(X, Y, w):\n",
    " m = X.shape[0]\n",
    " y_pred = np.dot(X, w)\n",
    " loss = (1/m) * np.sum((y_pred - Y) ** 2)\n",
    " return loss"
   ]
  },
  {
   "cell_type": "markdown",
   "metadata": {
    "id": "VuhSB9zaTfwm"
   },
   "source": [
    "Now, we want to calculate the weight matrix, $w$, using the direct method. By direct method, we mean finding the answer to the optimization problem below directly using linear algebra, without using iterative methods:\n",
    "\n",
    "$$\n",
    "\\min_{w} \\mathcal{L}(w)\n",
    "$$\n",
    "\n",
    "Question: What is the answer to this problem in terms of $X$ and $Y$?\n",
    "\n",
    "Answer:\n",
    "$$\n",
    "\\ w = (X^\\top X)^{-1}X^\\top Y\n",
    "$$\n",
    "\n",
    "Now you should implement a function that receives $X$ and $Y$ as input and returns $w$. Note that your implementation should also be fully vectorized."
   ]
  },
  {
   "cell_type": "code",
   "execution_count": 7,
   "metadata": {
    "id": "-gCUK01DT-cW"
   },
   "outputs": [],
   "source": [
    "def direct_method(X, Y):\n",
    " w = np.linalg.inv(X.T @ X) @ X.T @ Y\n",
    " return w"
   ]
  },
  {
   "cell_type": "markdown",
   "metadata": {
    "id": "thFIeOaSUvlw"
   },
   "source": [
    "Finally, we want to evaluate our loss for this problem. Run the cell below to calculate the loss of your model."
   ]
  },
  {
   "cell_type": "code",
   "execution_count": 8,
   "metadata": {
    "id": "6gGDh11VU8vF"
   },
   "outputs": [
    {
     "name": "stdout",
     "output_type": "stream",
     "text": [
      "loss for this problem using direct method is 0.08383506710827812\n"
     ]
    }
   ],
   "source": [
    "w = direct_method(X, Y) # calculating w using direct method\n",
    "print(f\"loss for this problem using direct method is {loss(X, Y, w)}\")"
   ]
  },
  {
   "cell_type": "markdown",
   "metadata": {
    "id": "QaG14YG9VXiS"
   },
   "source": [
    "## Training Model Using Gradient Descent\n",
    "\n",
    "Now, instead of using the direct method to calculate $w$, we want to use the **Gradient Descent** algorithm. We know that in this algorithm, in each iteration, we should update our weight vector with:\n",
    "\n",
    "$$\n",
    "\\mathbf{w}^{(t+1)} = \\mathbf{w}^{(t)} - \\alpha \\nabla \\mathcal{L}(\\mathbf{w}^{(t)})\n",
    "$$\n",
    "\n",
    "Here, $w^{t}$ represents the weight matrix in the $t$th iteration, and $\\alpha$ represents the learning rate.\n",
    "\n",
    "**Question**: Write an expression for $\\nabla\\mathcal{L}(\\mathbf{w})$.\n",
    "\n",
    "**Answer**:\n",
    "\n",
    "\\begin{equation}\n",
    "\\nabla \\mathcal{L}(\\mathbf{w}) = \\frac{2}{m}X^\\top(X\\mathbf{w}-Y)\n",
    "\\end{equation}\n",
    "\n",
    "\n",
    "Now, write a function that computes the gradient of $\\mathcal{L}(\\mathbf{w})$. This function should receive $X$, $Y$, and $\\mathbf{w}$ as inputs and return an $(n+1) \\times 1$ vector, which represents $\\nabla\\mathcal{L}(\\mathbf{w})$. Note that your implementation should also be **fully vectorized**.\n"
   ]
  },
  {
   "cell_type": "code",
   "execution_count": 9,
   "metadata": {
    "id": "yqVQ-8I-VeVc"
   },
   "outputs": [],
   "source": [
    "def gradient(X, Y, w):\n",
    "    m = X.shape[0]\n",
    "    grad = (2/m) * X.T @ ((X@w).reshape(-1,1)-Y)\n",
    "    return grad"
   ]
  },
  {
   "cell_type": "markdown",
   "metadata": {
    "id": "TJP5KaZzXz5K"
   },
   "source": [
    "Now, we are ready to implement the Gradient Descent algorithm. Complete the function below for this purpose. Note that this function receives $X$, $Y$, the learning rate, and the number of iterations as inputs. This function should return two parameters. The first parameter is $\\mathbf{w}$, and the second parameter is a `numpy` array that contains the loss in each iteration. This array is indicated by `loss_history` in the code. Also note that you should initialize $\\mathbf{w}$ with the `randn` function."
   ]
  },
  {
   "cell_type": "code",
   "execution_count": 26,
   "metadata": {
    "id": "qdfNjz5DYgD7"
   },
   "outputs": [],
   "source": [
    "def gradient_descent(X, Y, learning_rate, num_iterations):\n",
    "    m, n = X.shape\n",
    "    w = np.random.randn(n).reshape(-1,1)\n",
    "    loss_history = np.zeros(num_iterations)\n",
    "    \n",
    "    for i in range(num_iterations):\n",
    "        grad = gradient(X, Y, w)\n",
    "        w = w - learning_rate * grad\n",
    "        loss_history[i] = loss(X, Y, w)\n",
    "    \n",
    "    return w, loss_history"
   ]
  },
  {
   "cell_type": "markdown",
   "metadata": {
    "id": "CjGioRweZK9O"
   },
   "source": [
    "Now, run the `gradient_descent` function for 5 different values of the learning rate. Plot the `loss_history` of these 5 different values in the same figure.\n",
    "\n",
    "**Question**: Discuss the effect of the learning rate and find the best value of this parameter.\n",
    "\n",
    "**Answer**: The more we increase the learning rate, the faster our hand tends to zero with fewer iterations"
   ]
  },
  {
   "cell_type": "code",
   "execution_count": 38,
   "metadata": {
    "id": "yMuwbOokZtcL"
   },
   "outputs": [
    {
     "data": {
      "image/png": "[encoded data removed]",
      "text/plain": [
       "<Figure size 432x288 with 1 Axes>"
      ]
     },
     "metadata": {
      "needs_background": "light"
     },
     "output_type": "display_data"
    }
   ],
   "source": [
    "import matplotlib.pyplot as plt\n",
    "\n",
    "learning_rates = [0.001 , 0.003 , 0.01 , 0.03 , 0.1]\n",
    "num_iterations = 100\n",
    "\n",
    "for lr in learning_rates:\n",
    "    w, loss_history = gradient_descent(X, Y, lr, num_iterations)\n",
    "    plt.plot(loss_history, label=f'Learning rate: {lr}')\n",
    "\n",
    "plt.xlabel('Iteration')\n",
    "plt.ylabel('MSE Loss')\n",
    "plt.legend()\n",
    "plt.show()"
   ]
  },
  {
   "cell_type": "markdown",
   "metadata": {
    "id": "k-lyJhZqZ18d"
   },
   "source": [
    "## Conclusion\n",
    "\n",
    "Compare the answer of two different methods that we used earlier.\n",
    "\n",
    "**Question**: Discuss these two methods and compare them with each other. When is it better to use the direct method, and when is it better to use Gradient Descent?\n",
    "\n",
    "**Answer**: The direct method, calculates the optimal weight vector by solving a system of linear equations. It involves inverting a matrix, which can be computationally \"expensive\" for \"large datasets\". However, once the optimal weight vector is calculated, it can be used directly to make predictions on new data points.\n",
    "\n",
    "On the other hand, gradient descent is an iterative optimization algorithm that adjusts the weight vector in the direction of steepest descent of the loss function. It requires \"fewer computations\" than the direct method and can be used on \"large datasets\". However, the convergence of gradient descent depends on the learning rate and can be sensitive to the choice of hyperparameters.\n",
    "\n",
    "In general, it is better to use the direct method when the dataset is small and the computational resources are available. The direct method will provide the optimal weight vector, which can be used to make predictions quickly. However, if the dataset is large and the computational resources are limited, gradient descent can be used to find a good approximation of the optimal weight vector. Gradient descent can also handle non-linear models and non-convex optimization problems, where the direct method may not be applicable."
   ]
  },
  {
   "cell_type": "markdown",
   "metadata": {
    "id": "MF15dsmXaUzJ"
   },
   "source": [
    "## (Additional Part) Stochastic Gradient Descent\n",
    "\n",
    "When the number of data points becomes large, calculating the gradient becomes very complicated. In these circumstances, we use **Stochastic Gradient Descent**. In this algorithm, instead of using all of the data points to calculate the gradient, we use only a small number of them. We choose these small number of points randomly in each iteration. Implement this algorithm, and use it to calculate $w$, and then compare the result with the preceding parts."
   ]
  },
  {
   "cell_type": "code",
   "execution_count": 41,
   "metadata": {
    "id": "6cHTQFgOaQBB"
   },
   "outputs": [],
   "source": [
    "def stochastic_gradient_descent(X,Y,k,alpha,num_iter):\n",
    "    m,n = X.shape\n",
    "    w = np.zeros((n,1))\n",
    "    loss_history = []\n",
    "    \n",
    "    for i in range(num_iter):\n",
    "        idx = np.random.choice(m,k)\n",
    "        X_batch = X[idx]\n",
    "        Y_batch = Y[idx]\n",
    "        \n",
    "        grad = (1/k) * X_batch.T.dot(X_batch.dot(w)-Y_batch)\n",
    "        w -= alpha * grad\n",
    "        \n",
    "        loss = (1/(2*k)) * np.sum((X_batch.dot(w)-Y_batch)**2)\n",
    "        loss_history.append(loss)\n",
    "    return w, loss_history"
   ]
  }
 ],
 "metadata": {
  "colab": {
   "provenance": []
  },
  "kernelspec": {
   "display_name": "Python 3 (ipykernel)",
   "language": "python",
   "name": "python3"
  },
  "language_info": {
   "codemirror_mode": {
    "name": "ipython",
    "version": 3
   },
   "file_extension": ".py",
   "mimetype": "text/x-python",
   "name": "python",
   "nbconvert_exporter": "python",
   "pygments_lexer": "ipython3",
   "version": "3.9.7"
  }
 },
 "nbformat": 4,
 "nbformat_minor": 1
}
