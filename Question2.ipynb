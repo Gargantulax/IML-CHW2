{
  "cells": [
    {
      "attachments": {},
      "cell_type": "markdown",
      "metadata": {
        "id": "un_07izr0mCO"
      },
      "source": [
        "<h1 align=\"center\">An Introduction to Machine Learning - 25737</h1>\n",
        "<h4 align=\"center\">Dr. Sajjad Amini</h4>\n",
        "<h4 align=\"center\">Sharif University of Technology, Spring 2023</h4>\n",
        "\n",
        "**Student Name**: Alireza Shokrani\n",
        "\n",
        "**Student ID**: 99106255\n",
        "\n",
        "# Effect of Overfitting\n",
        "\n",
        "In this exercise, we want to examine the effect of **overfitting**. As you learned in class, using too many features in training can result in a model with very low loss on the training set but high loss on the validation and test set. For this purpose, we have prepared a dataset in the `q2-train.npy`, `q2-valid.npy`, and `q2-test.npy` files for you. We know that `y` is a polynomial function of `x` in this dataset, meaning that \n",
        "\n",
        "$$\n",
        "y = \\sum_{i=0}^{k}a_ix^i\n",
        "$$\n",
        "\n",
        "However, we do not know the exact value of `k`."
      ]
    },
    {
      "attachments": {},
      "cell_type": "markdown",
      "metadata": {
        "id": "rcSNUeqT158e"
      },
      "source": [
        "## Importing Libraries\n",
        "\n",
        "First, we import the necessary libraries for this assignment. Please note that you should only use these libraries and no other libraries are acceptable."
      ]
    },
    {
      "cell_type": "code",
      "execution_count": 1,
      "metadata": {
        "id": "UitW8b0J0jBa"
      },
      "outputs": [],
      "source": [
        "import numpy as np\n",
        "import matplotlib.pyplot as plt"
      ]
    },
    {
      "attachments": {},
      "cell_type": "markdown",
      "metadata": {
        "id": "Q1x7BaU22F4k"
      },
      "source": [
        "## Reading Data and Preprocessing\n",
        "\n",
        "In this part of the assignment, you should read data from the `.npy` files. The data in `q2-train.npy` file is your training set and should be stored in the `X_train` and `Y_train` variables. Similarly, the data in `q2-valid.npy` file is your validation set, and the data in `q2-test.npy` file is your test set, which should be stored in `X_val`, `Y_val`, `X_test`, and `Y_test` respectively. You can use the `np.load` function to read the `.npy` files."
      ]
    },
    {
      "cell_type": "code",
      "execution_count": 2,
      "metadata": {
        "id": "dDMeq10G2m0U"
      },
      "outputs": [],
      "source": [
        "X_train, Y_train, X_val, Y_val, X_test, Y_test = None, None, None, None, None, None\n",
        "\n",
        "### START CODE HERE ###\n",
        "train = np.load('q2-train.npy')\n",
        "val = np.load('q2-valid.npy')\n",
        "test = np.load('q2-test.npy')\n",
        "X_train = train[:,0]\n",
        "Y_train = train[:,1]\n",
        "X_val = val[:,0]\n",
        "Y_val = val[:,1]\n",
        "X_test = test[:,0]\n",
        "Y_test = test[:,1]\n",
        "### END CODE HERE ###"
      ]
    },
    {
      "attachments": {},
      "cell_type": "markdown",
      "metadata": {
        "id": "nyXpEfEa3Gw-"
      },
      "source": [
        "To find the best value of `k`, we want to change `k` from 1 to 12 and examine its effect on the validation set, and then choose the right value of `k`. For this purpose, we need to create a matrix with columns equal to $x^0$, $x^1$, $x^2$, ..., $x^k$ for every value of `k`. You can complete the following function to do this job. The function takes an $m \\times 1$ vector `X` containing values of input `x` and returns an $m \\times (k+1)$ matrix that has the properties mentioned above."
      ]
    },
    {
      "cell_type": "code",
      "execution_count": 3,
      "metadata": {
        "id": "DXw2tPO84Ksp"
      },
      "outputs": [],
      "source": [
        "def create_matrix(X,k):\n",
        "  '''\n",
        "  X: an m by 1 array \n",
        "  '''\n",
        "  new_X = None\n",
        "  ### START CODE HERE ###\n",
        "  new_X = np.zeros([len(X),k+1])\n",
        "  for i in range(k+1):\n",
        "      new_X[:,i] = X**i\n",
        "  ### END CODE HERE ###\n",
        "  return new_X"
      ]
    },
    {
      "attachments": {},
      "cell_type": "markdown",
      "metadata": {
        "id": "WCTuye7C5Aq3"
      },
      "source": [
        "## Validate Model\n",
        "\n",
        "Now, we want to train our model for every value of `k`. You can use any of the methods that we used in **Question 1** (gradient descent or direct calculation) for this purpose. The following function trains our model on the training set for a given value of `k`, and then returns the loss on the training set and validation set, as well as the weight vector `w`."
      ]
    },
    {
      "cell_type": "code",
      "execution_count": 4,
      "metadata": {
        "id": "9lfWITgf7yQH"
      },
      "outputs": [],
      "source": [
        "# If you need any other function for training write it here\n",
        "# (like gradient descent or anything else)\n",
        "def loss(X, Y, w):\n",
        "  '''\n",
        "  X: an m by (n+1) matrix which includes inputs\n",
        "  Y: an m by 1 vector which includes heating loads\n",
        "  w: an (n+1) by 1 weight vector\n",
        "  '''\n",
        "  m, n = X.shape\n",
        "  loss = None\n",
        "  ### START CODE HERE ###\n",
        "  loss = np.linalg.norm(Y - (X@w))**2 / m\n",
        "  ### END CODE HERE ###\n",
        "  return loss\n",
        "\n",
        "def direct_method(X, Y):\n",
        "  '''\n",
        "  X: an m by (n+1) matrix which includes inputs\n",
        "  Y: an m by 1 vector which includes heating loads\n",
        "  '''\n",
        "  w = None\n",
        "  ### START CODE HERE ###\n",
        "  w = np.linalg.inv(X.T @ X) @ X.T @ Y\n",
        "  ### END CODE HERE ###\n",
        "  return w"
      ]
    },
    {
      "cell_type": "code",
      "execution_count": 5,
      "metadata": {
        "id": "JaIs631q508z"
      },
      "outputs": [],
      "source": [
        "def train(X_train, Y_train, X_val, Y_val, k):\n",
        "  '''\n",
        "  X_train: an m_train by 1 vector contains training points\n",
        "  Y_train: an m_train by 1 vector contains training values\n",
        "  X_val: an m_val by 1 vector contains validation points\n",
        "  Y_val: an m_val by 1 vector contains validation values\n",
        "  k: degree of polynomial\n",
        "  '''\n",
        "  w, loss_train, loss_val = None, None, None\n",
        "  ### START CODE HERE ###\n",
        "  num_iter = 100\n",
        "  alpha = 0.1\n",
        "  X_t = create_matrix(X_train,k)\n",
        "  # w, hist = gradient_descent(X_t, Y_train, alpha, num_iter)\n",
        "  # loss_train = hist[-1]\n",
        "  w = direct_method(X_t, Y_train)\n",
        "  loss_train = loss(X_t, Y_train, w)\n",
        "  X_v = create_matrix(X_val,k)\n",
        "  loss_val = loss(X_v, Y_val, w)\n",
        "  ### END CODE HERE ###\n",
        "  return w, loss_train, loss_val"
      ]
    },
    {
      "attachments": {},
      "cell_type": "markdown",
      "metadata": {
        "id": "eAsZfxCu6YEf"
      },
      "source": [
        "In the cell below, you can change the value of `k` between 1 and 12 and plot the loss on the training and validation set as a function of `k` in the same plot.\n",
        "\n",
        "**Question**: Discuss about the effect of $k$.\n",
        "\n",
        "**Answer**: When k is small, the model does not have enough capacity and learning can’t be done properly. As we choose bigger values for k, the model earns the needed capacity and does better in both training and validation set. But when we set k to even bigger values, the training set loss will continue to decries slightly but the loss in the validation set will become terribly worse. In this case overfitting has happened. "
      ]
    },
    {
      "cell_type": "code",
      "execution_count": 6,
      "metadata": {
        "id": "knUTXtOv66Wx"
      },
      "outputs": [
        {
          "data": {
            "image/png": "[encoded data removed]",
            "text/plain": [
              "<Figure size 640x480 with 1 Axes>"
            ]
          },
          "metadata": {},
          "output_type": "display_data"
        }
      ],
      "source": [
        "### START CODE HERE ###\n",
        "loss_train = []\n",
        "loss_val = []\n",
        "Ks = range(1,13)\n",
        "for k in Ks:\n",
        "    out = train(X_train, Y_train, X_val, Y_val, k)\n",
        "    loss_train.append(out[1])\n",
        "    loss_val.append(out[2])\n",
        "\n",
        "plt.plot(Ks, loss_train, label='Loss of the Training Set')\n",
        "plt.plot(Ks, loss_val, label='Loss of the Validation Set')\n",
        "plt.legend()\n",
        "plt.show()\n",
        "### END CODE HERE ###"
      ]
    },
    {
      "attachments": {},
      "cell_type": "markdown",
      "metadata": {
        "id": "K0M1d2Ez7JLJ"
      },
      "source": [
        "## Evaluating Model\n",
        "\n",
        "In the cell below find the loss of your best model on the test set.\n",
        "\n",
        "**Question**: Why we need test set?\n",
        "\n",
        "**Answer**: Training set is used to train the model and validation set is to choose the best model. We need another set that had no effect in any of the previous steps so we can test our model by a completely new data set which models the newer data that isn’t seen yet and is to be predicted. "
      ]
    },
    {
      "cell_type": "code",
      "execution_count": 17,
      "metadata": {
        "id": "Ex1P5H0A7emE"
      },
      "outputs": [
        {
          "name": "stdout",
          "output_type": "stream",
          "text": [
            "Loss of the Training Set = 0.044821130927610274\n",
            "Loss of the Validation Set = 0.11129319168931669\n",
            "Loss of the Test Set = 0.11791424797275836\n"
          ]
        }
      ],
      "source": [
        "### START CODE HERE ###\n",
        "k = 8\n",
        "[w, loss_train, loss_val] = train(X_train, Y_train, X_val, Y_val, k)\n",
        "X_ts = create_matrix(X_test,k)\n",
        "loss_test = loss(X_ts, Y_test, w)\n",
        "print(f'Loss of the Training Set = {loss_train}')\n",
        "print(f'Loss of the Validation Set = {loss_val}')\n",
        "print(f'Loss of the Test Set = {loss_test}')"
      ]
    }
  ],
  "metadata": {
    "colab": {
      "provenance": []
    },
    "kernelspec": {
      "display_name": "Python 3",
      "language": "python",
      "name": "python3"
    },
    "language_info": {
      "codemirror_mode": {
        "name": "ipython",
        "version": 3
      },
      "file_extension": ".py",
      "mimetype": "text/x-python",
      "name": "python",
      "nbconvert_exporter": "python",
      "pygments_lexer": "ipython3",
      "version": "3.9.8"
    },
    "vscode": {
      "interpreter": {
        "hash": "41beeaf87663fb3e3cd4b2f639d3aec926a9267b7576f649f322450b46a69e28"
      }
    }
  },
  "nbformat": 4,
  "nbformat_minor": 0
}
