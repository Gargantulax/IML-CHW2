{
  "cells": [
    {
      "attachments": {},
      "cell_type": "markdown",
      "metadata": {
        "id": "j5uereX7Mkpx"
      },
      "source": [
        "<h1 align=\"center\">An Introduction to Machine Learning - 25737</h1>\n",
        "<h4 align=\"center\">Dr. Sajjad Amini</h4>\n",
        "<h4 align=\"center\">Sharif University of Technology, Spring 2023</h4>\n",
        "\n",
        "**Student Name**: Alireza Shokrani\n",
        "\n",
        "**Student ID**: 99106255\n",
        "\n",
        "# Classification\n",
        "\n",
        "In this question, we will examine classification algorithms. We do not need to implement the algorithms; instead, we will use the functions available in the `scikit-learn` library to solve the question."
      ]
    },
    {
      "cell_type": "markdown",
      "metadata": {
        "id": "ZZM6ukbVNXsR"
      },
      "source": [
        "## Importing Libraries\n",
        "\n",
        "First, we import all required libraries.\n",
        "\n",
        "**Attention**: You should only use these libraries. Other libraries are not acceptable."
      ]
    },
    {
      "cell_type": "code",
      "execution_count": 61,
      "metadata": {
        "id": "cVcSib9xMcYs"
      },
      "outputs": [],
      "source": [
        "import numpy as np\n",
        "import pandas as pd\n",
        "from matplotlib import pyplot as plt\n",
        "from sklearn.datasets import load_breast_cancer\n",
        "from sklearn.model_selection import train_test_split\n",
        "from sklearn.linear_model import LogisticRegression\n",
        "from sklearn.discriminant_analysis import LinearDiscriminantAnalysis\n",
        "from sklearn.naive_bayes import GaussianNB"
      ]
    },
    {
      "attachments": {},
      "cell_type": "markdown",
      "metadata": {
        "id": "1j8Wkh1_R3if"
      },
      "source": [
        "## Loading Data\n",
        "\n",
        "In this question, we will use the **Breast Cancer** dataset from `scikit-learn`. You can run the following cell to load the dataset:"
      ]
    },
    {
      "cell_type": "code",
      "execution_count": 62,
      "metadata": {
        "id": "JwrbBNTJSKmw"
      },
      "outputs": [
        {
          "name": "stdout",
          "output_type": "stream",
          "text": [
            "(569, 30)\n",
            "(569,)\n"
          ]
        }
      ],
      "source": [
        "data = load_breast_cancer() # loading cancer data\n",
        "\n",
        "X = data.data # features\n",
        "Y = data.target # labels \n",
        "\n",
        "# printing size of the features and targets\n",
        "print(X.shape)\n",
        "print(Y.shape)"
      ]
    },
    {
      "cell_type": "markdown",
      "metadata": {
        "id": "H8wrGIzsSh0g"
      },
      "source": [
        "Now you should use `train_test_split` function to split dataset into three parts:\n",
        "\n",
        "- 70% for the training set\n",
        "- 20% for the validation set\n",
        "- 10% for the test set\n",
        "\n",
        "Do this in the cell below."
      ]
    },
    {
      "cell_type": "code",
      "execution_count": 63,
      "metadata": {
        "id": "BxGOZp_OS8-y"
      },
      "outputs": [],
      "source": [
        "X_train, Y_train, X_val, Y_val, X_test, Y_test = None, None, None, None, None, None\n",
        "\n",
        "### START CODE HERE ###\n",
        "X_train, X_rest, Y_train, Y_rest = train_test_split(X, Y, train_size=0.7)\n",
        "X_val, X_test, Y_val, Y_test = train_test_split(X_rest, Y_rest, train_size=0.67)\n",
        "### END CODE HERE ###"
      ]
    },
    {
      "attachments": {},
      "cell_type": "markdown",
      "metadata": {
        "id": "8PQZhqrxTOUG"
      },
      "source": [
        "## Logistic Regression\n",
        "\n",
        "In this part of the question, you will use the `LogisticRegression` classifier to classify the data. You should change the value of `C`, which is the inverse of the regularization parameter, and find the accuracy on the validation set. Using the validation accuracy, you can find the best value for `C`. Note that you may want to change the solver for faster convergence. The `liblinear` solver is recommended for this problem. You can visit [this link](https://scikit-learn.org/stable/modules/generated/sklearn.linear_model.LogisticRegression.html) for more information about the `LogisticRegression` classifier.\n",
        "\n",
        "**Question**: What is the best value of `C`?\n",
        "\n",
        "**Answer**: As we slice the data randomly in each run, the result isn’t constant and can be different each time, but the exact value of C is not important because any value it has, we capture it by using ‘max’ function and working with it."
      ]
    },
    {
      "cell_type": "code",
      "execution_count": 64,
      "metadata": {
        "id": "EO71NefdUAat"
      },
      "outputs": [
        {
          "data": {
            "image/png": "[encoded data removed]",
            "text/plain": [
              "<Figure size 640x480 with 1 Axes>"
            ]
          },
          "metadata": {},
          "output_type": "display_data"
        }
      ],
      "source": [
        "### START CODE HERE ###\n",
        "reg_par = np.linspace(0.01,5,1000)\n",
        "scores = []\n",
        "for c in reg_par:\n",
        "    clf = LogisticRegression(C = c, solver='liblinear').fit(X_train, Y_train)\n",
        "    scores.append(clf.score(X_val, Y_val))\n",
        "\n",
        "plt.plot(reg_par, scores)\n",
        "plt.show()\n",
        "### END CODE HERE ###"
      ]
    },
    {
      "attachments": {},
      "cell_type": "markdown",
      "metadata": {
        "id": "eoHaii2pU8wZ"
      },
      "source": [
        "Now use your best classifier to calculate the accuracy on the test set.\n",
        "\n",
        "**Qusetion**: What is the accuracy of this classifier on test set?\n",
        "\n",
        "**Answer**: It seems like we were "
      ]
    },
    {
      "cell_type": "code",
      "execution_count": 65,
      "metadata": {
        "id": "jcZUGS6WVP75"
      },
      "outputs": [
        {
          "name": "stdout",
          "output_type": "stream",
          "text": [
            "score of validation set = 0.9912280701754386\n",
            "score of test set = 0.9649122807017544\n"
          ]
        }
      ],
      "source": [
        "### START CODE HERE ###\n",
        "idx = np.argmax(scores)\n",
        "c_max = reg_par[idx]\n",
        "clf = LogisticRegression(C = c_max, solver='liblinear').fit(X_train, Y_train)\n",
        "sc_val = clf.score(X_val, Y_val)\n",
        "sc_test = clf.score(X_test, Y_test)\n",
        "print(f'score of validation set = {sc_val}')\n",
        "print(f'score of test set = {sc_test}')\n",
        "### END CODE HERE ###"
      ]
    },
    {
      "attachments": {},
      "cell_type": "markdown",
      "metadata": {
        "id": "3lKNbTnjVQgU"
      },
      "source": [
        "For this additional part, you can use only the first two features of the dataset to classify the data and then draw the data points and the boundary on a figure. You can use the [tutorial](https://aleksandarhaber.com/solve-classification-problems-in-python-scikit-learn-and-visualize-the-classification-results-machine-learning-tutorial/?utm_source=rss&utm_medium=rss&utm_campaign=solve-classification-problems-in-python-scikit-learn-and-visualize-the-classification-results-machine-learning-tutorial) provided to learn how to do this. You may need to use additional libraries such as `matplotlib` specifically for this part."
      ]
    },
    {
      "cell_type": "code",
      "execution_count": 66,
      "metadata": {
        "id": "H149H3EIVmvn"
      },
      "outputs": [],
      "source": [
        "### START CODE HERE ###\n",
        "\n",
        "### END CODE HERE ###"
      ]
    },
    {
      "attachments": {},
      "cell_type": "markdown",
      "metadata": {
        "id": "UoIWVF51V4BY"
      },
      "source": [
        "## Naive Bayes\n",
        "\n",
        "In this part, you will use the `GaussianNB` classifier to classify the data. You should not change the default parameters of this classifier. First, train the classifier on the training set and then find the accuracy of it on the test set.\n",
        "\n",
        "**Question**: What is the accuracy of this method on test set?\n",
        "\n",
        "**Answer**:"
      ]
    },
    {
      "cell_type": "code",
      "execution_count": 67,
      "metadata": {
        "id": "HdPBdhTOV3m1"
      },
      "outputs": [],
      "source": [
        "### START CODE HERE ###\n",
        "\n",
        "### END CODE HERE ###"
      ]
    },
    {
      "attachments": {},
      "cell_type": "markdown",
      "metadata": {
        "id": "9l-KmLh-WWtP"
      },
      "source": [
        "## LDA (Linear Discriminant Analysis)\n",
        "\n",
        "In this part, you will use the `LinearDiscriminantAnalysis` classifier to classify the data. You should not change the default parameters of this classifier. First, train the classifier on the training set and then find the accuracy of it on the test set.\n",
        "\n",
        "**Question**: What is the accuracy of this method on test set?\n",
        "\n",
        "**Answer**:"
      ]
    },
    {
      "cell_type": "code",
      "execution_count": 68,
      "metadata": {
        "id": "GF5RAdxWWs8Y"
      },
      "outputs": [],
      "source": [
        "### START CODE HERE ###\n",
        "\n",
        "### END CODE HERE ###"
      ]
    },
    {
      "cell_type": "markdown",
      "metadata": {
        "id": "yUwTuO5wW0FI"
      },
      "source": [
        "## Conclution\n",
        "\n",
        "**Question**: What is the best method for classifying this dataset? What is the best accuracy on the test set?\n",
        "\n",
        "**Answer**:"
      ]
    }
  ],
  "metadata": {
    "colab": {
      "provenance": []
    },
    "kernelspec": {
      "display_name": "Python 3",
      "language": "python",
      "name": "python3"
    },
    "language_info": {
      "codemirror_mode": {
        "name": "ipython",
        "version": 3
      },
      "file_extension": ".py",
      "mimetype": "text/x-python",
      "name": "python",
      "nbconvert_exporter": "python",
      "pygments_lexer": "ipython3",
      "version": "3.9.8"
    },
    "vscode": {
      "interpreter": {
        "hash": "41beeaf87663fb3e3cd4b2f639d3aec926a9267b7576f649f322450b46a69e28"
      }
    }
  },
  "nbformat": 4,
  "nbformat_minor": 0
}
